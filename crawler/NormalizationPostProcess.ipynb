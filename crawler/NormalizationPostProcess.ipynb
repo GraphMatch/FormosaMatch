{
 "cells": [
  {
   "cell_type": "code",
   "execution_count": 1,
   "metadata": {
    "collapsed": true
   },
   "outputs": [],
   "source": [
    "import pandas as pd\n",
    "import numpy as np\n",
    "import matplotlib.pyplot as plt"
   ]
  },
  {
   "cell_type": "code",
   "execution_count": 64,
   "metadata": {
    "collapsed": false
   },
   "outputs": [
    {
     "data": {
      "text/plain": [
       "3487"
      ]
     },
     "execution_count": 64,
     "metadata": {},
     "output_type": "execute_result"
    }
   ],
   "source": [
    "prof = pd.read_csv('profiles.csv')\n",
    "len(prof)\n"
   ]
  },
  {
   "cell_type": "code",
   "execution_count": 65,
   "metadata": {
    "collapsed": false
   },
   "outputs": [
    {
     "data": {
      "text/plain": [
       "3487"
      ]
     },
     "execution_count": 65,
     "metadata": {},
     "output_type": "execute_result"
    }
   ],
   "source": [
    "lookingFor = pd.read_csv('lookingFors.csv')\n",
    "minAge = lookingFor[lookingFor.metric.isin(['min_age'])]\n",
    "minAge = minAge.drop(minAge.columns[0],axis=1).drop(minAge.columns[2],axis=1)\n",
    "minAge.columns = ['minAge','username']\n",
    "maxAge = lookingFor[lookingFor.metric.isin(['max_age'])]\n",
    "maxAge = maxAge.drop(maxAge.columns[0],axis=1).drop(maxAge.columns[2],axis=1)\n",
    "maxAge.columns = ['maxAge','username']\n",
    "prof = pd.merge(prof, minAge, how='left', on=['username'])\n",
    "prof = pd.merge(prof, maxAge, how='left', on=['username'])\n",
    "len(prof)"
   ]
  },
  {
   "cell_type": "code",
   "execution_count": 69,
   "metadata": {
    "collapsed": false
   },
   "outputs": [
    {
     "data": {
      "text/plain": [
       "3487"
      ]
     },
     "execution_count": 69,
     "metadata": {},
     "output_type": "execute_result"
    }
   ],
   "source": [
    "languages = pd.read_csv('languages.csv')\n",
    "languages = languages[languages.Level == 'fluently']\n",
    "languages = languages.sort_values(['username'],ascending=[1])\n",
    "languages = languages.reset_index()\n",
    "user = ''\n",
    "for i in range(len(languages)):\n",
    "    if user == '':\n",
    "        user = languages.loc[i,'username']\n",
    "        prof.loc[prof[prof.username == user].index,'language'] = languages.loc[i,'language']\n",
    "    elif user != languages.loc[i,'username']:\n",
    "        user = languages.loc[i,'username']\n",
    "        prof.loc[prof[prof.username == user].index,'language'] = languages.loc[i,'language']\n",
    "    \n",
    "languages.head()\n",
    "len(prof)"
   ]
  },
  {
   "cell_type": "code",
   "execution_count": 67,
   "metadata": {
    "collapsed": false
   },
   "outputs": [
    {
     "data": {
      "text/plain": [
       "3487"
      ]
     },
     "execution_count": 67,
     "metadata": {},
     "output_type": "execute_result"
    }
   ],
   "source": [
    "ethnicity = pd.read_csv('ethnicities.csv')\n",
    "ethnicity = ethnicity[ethnicity.indice == 0]\n",
    "ethnicity = ethnicity.drop(ethnicity.columns[1],axis=1)\n",
    "prof = pd.merge(prof, ethnicity, how='left', on=['username'])\n",
    "ethnicity.head()\n",
    "len(prof)"
   ]
  },
  {
   "cell_type": "code",
   "execution_count": 106,
   "metadata": {
    "collapsed": false
   },
   "outputs": [
    {
     "data": {
      "text/plain": [
       "3487"
      ]
     },
     "execution_count": 106,
     "metadata": {},
     "output_type": "execute_result"
    }
   ],
   "source": [
    "#age, \n",
    "import datetime\n",
    "now = datetime.datetime.now()\n",
    "\n",
    "for i in range(len(prof)):\n",
    "    dob = str(prof.loc[i,'birthDateDay']).zfill(2) + str(prof.loc[i,'birthDateMonth']).zfill(2) + str(prof.loc[i,'birthDateYear'])\n",
    "    age = now - datetime.datetime.strptime(dob, \"%d%m%Y\")\n",
    "    prof.loc[i,'age'] = int(age.days / 365)\n",
    "    \n",
    "len(prof)"
   ]
  },
  {
   "cell_type": "code",
   "execution_count": 104,
   "metadata": {
    "collapsed": false
   },
   "outputs": [
    {
     "data": {
      "text/plain": [
       "3487"
      ]
     },
     "execution_count": 104,
     "metadata": {},
     "output_type": "execute_result"
    }
   ],
   "source": [
    "#Sex Interest \n",
    "for i in range(len(prof)):\n",
    "    if prof.loc[i,'orientation'] == 'straight':\n",
    "        if prof.loc[i,'gender'] == 'man':\n",
    "            prof.loc[i,'sexPreference'] = 'woman'\n",
    "        else:\n",
    "            prof.loc[i,'sexPreference'] = 'man'\n",
    "    elif prof.loc[i,'orientation'] == 'straight':\n",
    "        if prof.loc[i,'gender'] == 'man':\n",
    "            prof.loc[i,'sexPreference'] = 'man'            \n",
    "        else:\n",
    "            prof.loc[i,'sexPreference'] = 'woman' \n",
    "    else:\n",
    "            prof.loc[i,'sexPreference'] = 'everyone' \n",
    "            \n",
    "\n",
    "len(prof)"
   ]
  },
  {
   "cell_type": "code",
   "execution_count": 107,
   "metadata": {
    "collapsed": false
   },
   "outputs": [],
   "source": [
    "prof.to_csv('normalizedProfiles.csv')"
   ]
  },
  {
   "cell_type": "code",
   "execution_count": null,
   "metadata": {
    "collapsed": true
   },
   "outputs": [],
   "source": []
  }
 ],
 "metadata": {
  "kernelspec": {
   "display_name": "Python 3",
   "language": "python",
   "name": "python3"
  },
  "language_info": {
   "codemirror_mode": {
    "name": "ipython",
    "version": 3
   },
   "file_extension": ".py",
   "mimetype": "text/x-python",
   "name": "python",
   "nbconvert_exporter": "python",
   "pygments_lexer": "ipython3",
   "version": "3.4.4"
  }
 },
 "nbformat": 4,
 "nbformat_minor": 2
}
